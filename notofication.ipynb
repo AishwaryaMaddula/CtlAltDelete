{
 "cells": [
  {
   "cell_type": "code",
   "execution_count": 18,
   "metadata": {},
   "outputs": [],
   "source": [
    "import pytesseract\n",
    "from PIL import Image\n",
    "\n",
    "# Load the image\n",
    "image_path = \"/Users/hariprasannaa/Desktop/medicine.png\"\n",
    "image = Image.open(image_path)\n",
    "\n",
    "# Extract text\n",
    "text = pytesseract.image_to_string(image)\n",
    "\n",
    "# Split into lines\n",
    "lines = text.splitlines()"
   ]
  },
  {
   "cell_type": "code",
   "execution_count": 19,
   "metadata": {},
   "outputs": [],
   "source": [
    "data = []\n",
    "notification_times = {}\n",
    "time_noon = {\n",
    "    \"A\": \"12:53\",\n",
    "    'M': \"10:21\",\n",
    "    \"N\": \"09:50\"\n",
    "}\n",
    "\n",
    "for line in lines:\n",
    "    if line != \"\":\n",
    "        tab_line = line.split(\"-\")\n",
    "        data.append(\n",
    "            (tab_line[0].strip(), 1, time_noon[tab_line[2].strip()], tab_line[1].strip()))\n",
    "        notification_times[time_noon[tab_line[2].strip(\n",
    "        )]] = f\"Please take {tab_line[1].strip()} {tab_line[0].strip()} now\""
   ]
  },
  {
   "cell_type": "code",
   "execution_count": 20,
   "metadata": {},
   "outputs": [
    {
     "data": {
      "text/plain": [
       "CompletedProcess(args='mysql -u root -D bmslocal -e \"INSERT INTO TABLETS (name, user_id, time_taken, dosage) VALUES  (\\'Dolo\\', 1, \\'12:53\\', 1), (\\'Citricin\\', 1, \\'10:21\\', 2)\"', returncode=0)"
      ]
     },
     "execution_count": 20,
     "metadata": {},
     "output_type": "execute_result"
    }
   ],
   "source": [
    "import subprocess\n",
    "\n",
    "# Prepare the query\n",
    "query_tablets = \"INSERT INTO TABLETS (name, user_id, time_taken, dosage) VALUES \"\n",
    "\n",
    "# Format the values to insert (handle multiple rows)\n",
    "values = \", \".join(\n",
    "    [f\"('{name}', {user_id}, '{time_taken}', {dosage})\" for name, user_id, time_taken, dosage in data])\n",
    "\n",
    "# Combine the query and values\n",
    "cmd = f'mysql -u root -D bmslocal -e \"{query_tablets} {values}\"'\n",
    "\n",
    "# Execute in the terminal\n",
    "subprocess.run(cmd, shell=True)"
   ]
  },
  {
   "cell_type": "code",
   "execution_count": 21,
   "metadata": {},
   "outputs": [],
   "source": [
    "import os\n",
    "import tempfile\n",
    "from gtts import gTTS\n",
    "from playsound import playsound\n",
    "from pync import Notifier\n",
    "# Translate text using deep-translator (reliable and synchronous)\n",
    "\n",
    "\n",
    "def translate_text(text, dest_lang, source_lang):\n",
    "    translator = GoogleTranslator(source=source_lang, target=dest_lang)\n",
    "    return translator.translate(text)\n",
    "\n",
    "# Convert translated text to speech and play it\n",
    "\n",
    "\n",
    "def read_text(text, dest_lang, source_lang):\n",
    "    otherlang_text = translate_text(text, dest_lang, source_lang)\n",
    "    Notifier.notify(otherlang_text, title=\"Reminder\")\n",
    "\n",
    "    # Create and play a temporary audio file\n",
    "    with tempfile.NamedTemporaryFile(delete=False, suffix=\".mp3\") as fp:\n",
    "        tts = gTTS(text=otherlang_text, lang=dest_lang)\n",
    "        tts.save(fp.name)\n",
    "        playsound(fp.name)\n",
    "        os.unlink(fp.name)"
   ]
  },
  {
   "cell_type": "code",
   "execution_count": 22,
   "metadata": {},
   "outputs": [
    {
     "data": {
      "text/plain": [
       "{'12:53': 'Please take 1 Dolo now', '10:21': 'Please take 2 Citricin now'}"
      ]
     },
     "execution_count": 22,
     "metadata": {},
     "output_type": "execute_result"
    }
   ],
   "source": [
    "notification_times"
   ]
  },
  {
   "cell_type": "code",
   "execution_count": 23,
   "metadata": {},
   "outputs": [
    {
     "ename": "KeyboardInterrupt",
     "evalue": "",
     "output_type": "error",
     "traceback": [
      "\u001b[0;31m---------------------------------------------------------------------------\u001b[0m",
      "\u001b[0;31mKeyboardInterrupt\u001b[0m                         Traceback (most recent call last)",
      "Cell \u001b[0;32mIn[23], line 11\u001b[0m\n\u001b[1;32m      8\u001b[0m     read_text(notification_times[current_time], \u001b[38;5;124m\"\u001b[39m\u001b[38;5;124mta\u001b[39m\u001b[38;5;124m\"\u001b[39m, \u001b[38;5;124m\"\u001b[39m\u001b[38;5;124men\u001b[39m\u001b[38;5;124m\"\u001b[39m)\n\u001b[1;32m     10\u001b[0m     \u001b[38;5;28;01mdel\u001b[39;00m notification_times[current_time]\n\u001b[0;32m---> 11\u001b[0m \u001b[43mtime\u001b[49m\u001b[38;5;241;43m.\u001b[39;49m\u001b[43msleep\u001b[49m\u001b[43m(\u001b[49m\u001b[38;5;241;43m30\u001b[39;49m\u001b[43m)\u001b[49m\n",
      "\u001b[0;31mKeyboardInterrupt\u001b[0m: "
     ]
    }
   ],
   "source": [
    "import time\n",
    "from deep_translator import GoogleTranslator\n",
    "\n",
    "while True and len(notification_times.keys()) > 0:\n",
    "    current_time = time.strftime(\"%H:%M\")  # Get current time\n",
    "    if current_time in notification_times:\n",
    "\n",
    "        read_text(notification_times[current_time], \"ta\", \"en\")\n",
    "\n",
    "        del notification_times[current_time]\n",
    "    time.sleep(30)"
   ]
  }
 ],
 "metadata": {
  "kernelspec": {
   "display_name": "Python 3",
   "language": "python",
   "name": "python3"
  },
  "language_info": {
   "codemirror_mode": {
    "name": "ipython",
    "version": 3
   },
   "file_extension": ".py",
   "mimetype": "text/x-python",
   "name": "python",
   "nbconvert_exporter": "python",
   "pygments_lexer": "ipython3",
   "version": "3.9.6"
  }
 },
 "nbformat": 4,
 "nbformat_minor": 2
}
